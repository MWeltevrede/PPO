{
 "cells": [
  {
   "cell_type": "code",
   "execution_count": 1,
   "metadata": {},
   "outputs": [],
   "source": [
    "import gym\n",
    "import torch\n",
    "import numpy as np\n",
    "\n",
    "from ppo import PPO\n",
    "from model import MLPActorCritic"
   ]
  },
  {
   "cell_type": "code",
   "execution_count": 2,
   "metadata": {},
   "outputs": [
    {
     "name": "stdout",
     "output_type": "stream",
     "text": [
      "Running PyTorch on GPU\n"
     ]
    }
   ],
   "source": [
    "def bipedal_walker():\n",
    "    return gym.make('BipedalWalker-v2')\n",
    "\n",
    "env_constructor = bipedal_walker\n",
    "env = env_constructor()\n",
    "\n",
    "seed = 0\n",
    "num_workers = 10\n",
    "\n",
    "obs_dim = env.observation_space.shape[0]\n",
    "num_actions = env.action_space.shape[0]\n",
    "\n",
    "buffer_size = 7680\n",
    "lr = 0.0005\n",
    "max_steps = int(2e6)\n",
    "\n",
    "gamma = .99\n",
    "GAE_lambda = .9\n",
    "\n",
    "epochs = 10\n",
    "minibatch_size = 256\n",
    "\n",
    "clip_ratio = 0.16\n",
    "initial_sd = .5\n",
    "\n",
    "max_ep_len = 200\n",
    "\n",
    "device = torch.device('cpu')\n",
    "if torch.cuda.is_available():\n",
    "    print(\"Running PyTorch on GPU\")\n",
    "    device = torch.device('cuda')\n",
    "\n",
    "actor_layer_sizes = [obs_dim] + [32,32] + [2*num_actions]\n",
    "critic_layer_sizes = [obs_dim] + [32,32] + [1]\n",
    "    \n",
    "class Network(MLPActorCritic):\n",
    "    def __init__(self, device):\n",
    "        super().__init__(actor_layer_sizes, critic_layer_sizes, initial_sd, num_actions, device)\n",
    "        \n",
    "ac_constructor = Network\n",
    "\n",
    "ppo = PPO(env_constructor, \n",
    "          ac_constructor, \n",
    "          buffer_size = buffer_size, \n",
    "          max_steps = max_steps, \n",
    "          gamma = gamma, \n",
    "          clip_ratio = clip_ratio,\n",
    "          lr = lr, \n",
    "          epochs = epochs, \n",
    "          batch_size = minibatch_size, \n",
    "          lam = GAE_lambda, \n",
    "          save_freq = 25,\n",
    "          save_path = \"models/bipedal\", \n",
    "          log_path = \"tensorboard/bipedal\",\n",
    "          loading_type = \"none\",\n",
    "          load_path = \"\",\n",
    "          device = device, \n",
    "          input_normalization = True, \n",
    "          max_ep_len = max_ep_len, \n",
    "          num_workers = num_workers, \n",
    "          seed = seed)"
   ]
  },
  {
   "cell_type": "code",
   "execution_count": 3,
   "metadata": {},
   "outputs": [
    {
     "name": "stdout",
     "output_type": "stream",
     "text": [
      "Iteration: 10, steps: 76800, mean loss: -0.009072457434143871, mean KL divergence: 0.007267270977996911 average return: -43.424742391167726, average episode length: 136.78643869371496\n",
      "Iteration: 20, steps: 153600, mean loss: -0.008658384288661182, mean KL divergence: 0.008609465962935551 average return: -3.5243355187853695, average episode length: 189.190243902439\n",
      "Saved model at iteration: 25\n",
      "Iteration: 30, steps: 230400, mean loss: -0.008260964438008766, mean KL divergence: 0.007964840163011102 average return: -2.3290315818615444, average episode length: 190.1921724333522\n",
      "Iteration: 40, steps: 307200, mean loss: -0.007185199558812504, mean KL divergence: 0.008450971283484252 average return: -0.5231324746553118, average episode length: 189.68083623693377\n",
      "Saved model at iteration: 50\n",
      "Iteration: 50, steps: 384000, mean loss: -0.007582757863681764, mean KL divergence: 0.008945776831591501 average return: 1.7443061126380166, average episode length: 191.53170731707314\n",
      "Iteration: 60, steps: 460800, mean loss: -0.008372448049408072, mean KL divergence: 0.008753116016703037 average return: 5.084802604939199, average episode length: 191.99999999999997\n",
      "Iteration: 70, steps: 537600, mean loss: -0.008456950424316649, mean KL divergence: 0.010902858132069619 average return: 8.03388472629777, average episode length: 191.99999999999997\n",
      "Saved model at iteration: 75\n",
      "Iteration: 80, steps: 614400, mean loss: -0.006990862461117406, mean KL divergence: 0.011661744330893271 average return: 10.164191337705475, average episode length: 191.99999999999997\n",
      "Iteration: 90, steps: 691200, mean loss: -0.006407913671961675, mean KL divergence: 0.013626834558749882 average return: 11.93511341847391, average episode length: 191.99999999999997\n",
      "Saved model at iteration: 100\n",
      "Iteration: 100, steps: 768000, mean loss: -0.005877760260676344, mean KL divergence: 0.013740842077415437 average return: 13.645440507180687, average episode length: 191.99999999999997\n",
      "Iteration: 110, steps: 844800, mean loss: -0.004860505512915551, mean KL divergence: 0.014816055560212892 average return: 16.137891800214895, average episode length: 191.99999999999997\n",
      "Iteration: 120, steps: 921600, mean loss: -0.004585351500504961, mean KL divergence: 0.016307595455398165 average return: 21.848845823629315, average episode length: 191.99999999999997\n",
      "Saved model at iteration: 125\n",
      "Iteration: 130, steps: 998400, mean loss: -0.00389048945500205, mean KL divergence: 0.016553275139032243 average return: 27.723311741031623, average episode length: 191.99999999999997\n",
      "Iteration: 140, steps: 1075200, mean loss: -0.0042199706786001726, mean KL divergence: 0.01641711572049341 average return: 30.307699982473498, average episode length: 191.99999999999997\n",
      "Saved model at iteration: 150\n",
      "Iteration: 150, steps: 1152000, mean loss: -0.0030317302912008025, mean KL divergence: 0.01772554298948186 average return: 32.02540548681272, average episode length: 191.99999999999997\n",
      "Iteration: 160, steps: 1228800, mean loss: -0.003143147031078115, mean KL divergence: 0.01746282362518832 average return: 34.01210370125411, average episode length: 191.99999999999997\n",
      "Iteration: 170, steps: 1305600, mean loss: -0.0016396786373419066, mean KL divergence: 0.019435276774573143 average return: 34.69727717521567, average episode length: 191.99999999999997\n",
      "Saved model at iteration: 175\n",
      "Iteration: 180, steps: 1382400, mean loss: -0.0016778299834889672, mean KL divergence: 0.02003304833810155 average return: 35.42297648542931, average episode length: 191.99999999999997\n",
      "Iteration: 190, steps: 1459200, mean loss: -0.0015860516429723548, mean KL divergence: 0.02092617242224514 average return: 36.15121855602605, average episode length: 191.99999999999997\n",
      "Saved model at iteration: 200\n",
      "Iteration: 200, steps: 1536000, mean loss: -0.0017974148255307228, mean KL divergence: 0.020308298091481755 average return: 36.736462915722406, average episode length: 191.99999999999997\n",
      "Iteration: 210, steps: 1612800, mean loss: -0.0011264455680114526, mean KL divergence: 0.02115047287157116 average return: 37.68590973599968, average episode length: 191.99999999999997\n",
      "Iteration: 220, steps: 1689600, mean loss: -0.001644874703216677, mean KL divergence: 0.02023707337700762 average return: 38.58073880360765, average episode length: 191.99999999999997\n",
      "Saved model at iteration: 225\n",
      "Iteration: 230, steps: 1766400, mean loss: -0.0015333712960903842, mean KL divergence: 0.020630306262988594 average return: 39.51822635664631, average episode length: 191.99999999999997\n",
      "Iteration: 240, steps: 1843200, mean loss: -0.0013852114177619415, mean KL divergence: 0.021061370796135934 average return: 39.99764658120098, average episode length: 191.99999999999997\n",
      "Saved model at iteration: 250\n",
      "Iteration: 250, steps: 1920000, mean loss: -0.0008982191434285293, mean KL divergence: 0.022475143938170128 average return: 40.86920820389924, average episode length: 191.99999999999997\n",
      "Iteration: 260, steps: 1996800, mean loss: -0.00020496656621495876, mean KL divergence: 0.02351815175598798 average return: 41.226585434452616, average episode length: 191.99999999999997\n"
     ]
    }
   ],
   "source": [
    "ppo.train(print_freq=10)"
   ]
  }
 ],
 "metadata": {
  "kernelspec": {
   "display_name": "Python 3",
   "language": "python",
   "name": "python3"
  },
  "language_info": {
   "codemirror_mode": {
    "name": "ipython",
    "version": 3
   },
   "file_extension": ".py",
   "mimetype": "text/x-python",
   "name": "python",
   "nbconvert_exporter": "python",
   "pygments_lexer": "ipython3",
   "version": "3.7.2"
  }
 },
 "nbformat": 4,
 "nbformat_minor": 4
}
