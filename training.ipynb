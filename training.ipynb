{
 "cells": [
  {
   "cell_type": "code",
   "execution_count": 1,
   "metadata": {},
   "outputs": [],
   "source": [
    "import gym\n",
    "import torch\n",
    "import numpy as np\n",
    "\n",
    "from ppo import PPO\n",
    "from model import MLPActorCritic"
   ]
  },
  {
   "cell_type": "code",
   "execution_count": 2,
   "metadata": {},
   "outputs": [
    {
     "name": "stdout",
     "output_type": "stream",
     "text": [
      "Running PyTorch on GPU\n"
     ]
    }
   ],
   "source": [
    "env = gym.make('BipedalWalker-v2')\n",
    "\n",
    "seed = 0\n",
    "\n",
    "torch.manual_seed(seed)\n",
    "np.random.seed(seed)\n",
    "env.seed(seed)\n",
    "\n",
    "obs_dim = env.observation_space.shape[0]\n",
    "num_actions = env.action_space.shape[0]\n",
    "\n",
    "buffer_size = 3840\n",
    "lr = 0.00054\n",
    "max_steps = int(1e6)\n",
    "\n",
    "gamma = .99\n",
    "GAE_lambda = .902\n",
    "\n",
    "epochs = 10\n",
    "minibatch_size = 128\n",
    "\n",
    "clip_ratio = 0.16\n",
    "initial_sd = .5\n",
    "\n",
    "max_ep_len = 200\n",
    "\n",
    "device = torch.device('cpu')\n",
    "if torch.cuda.is_available():\n",
    "    print(\"Running PyTorch on GPU\")\n",
    "    device = torch.device('cuda')\n",
    "\n",
    "actor_critic = MLPActorCritic([obs_dim] + [32,32] + [2*num_actions], [obs_dim] + [32,32] + [1], initial_sd, num_actions, device)\n",
    "    \n",
    "ppo = PPO(env, \n",
    "          actor_critic, \n",
    "          buffer_size = buffer_size, \n",
    "          max_steps = max_steps, \n",
    "          gamma = gamma, \n",
    "          clip_ratio = clip_ratio,\n",
    "          lr = lr, \n",
    "          epochs = epochs, \n",
    "          batch_size = minibatch_size, \n",
    "          lam = GAE_lambda, \n",
    "          save_freq=50,\n",
    "          save_path = \"models/Bipedal\", \n",
    "          device = device, \n",
    "          input_normalization=True, \n",
    "          time_feature = False,\n",
    "          max_ep_len=max_ep_len)"
   ]
  },
  {
   "cell_type": "code",
   "execution_count": 3,
   "metadata": {},
   "outputs": [
    {
     "name": "stdout",
     "output_type": "stream",
     "text": [
      "Iteration: 10, steps: 39088, mean loss: -0.011892180977573582, mean KL divergence: 0.007934944518571185 average return: -46.24976903467844, average episode length: 151.1659749861742\n",
      "Iteration: 20, steps: 78755, mean loss: -0.010455482362303882, mean KL divergence: 0.009428603608372919 average return: -4.541051293330047, average episode length: 198.335\n",
      "Iteration: 30, steps: 118303, mean loss: -0.01016498365654702, mean KL divergence: 0.009731225477154376 average return: -4.8478431098612855, average episode length: 197.74\n",
      "Iteration: 40, steps: 158036, mean loss: -0.009774593089945658, mean KL divergence: 0.009409905039954595 average return: -3.5809832975809073, average episode length: 198.665\n",
      "Saved model at iteration: 50\n",
      "Iteration: 50, steps: 197847, mean loss: -0.010498643525765322, mean KL divergence: 0.011761475445307422 average return: -2.9296253538281825, average episode length: 199.055\n",
      "Iteration: 60, steps: 237736, mean loss: -0.010755511355535183, mean KL divergence: 0.012913546153727258 average return: -0.3611425548963097, average episode length: 199.445\n",
      "Iteration: 70, steps: 277629, mean loss: -0.010197744988028952, mean KL divergence: 0.013176928834809878 average return: 0.6540497082005651, average episode length: 199.465\n",
      "Iteration: 80, steps: 317629, mean loss: -0.010399107227422065, mean KL divergence: 0.013657984206292896 average return: 2.300039357504119, average episode length: 200.0\n",
      "Iteration: 90, steps: 357629, mean loss: -0.010003003979218193, mean KL divergence: 0.016459952433287982 average return: 4.469885063818649, average episode length: 200.0\n",
      "Saved model at iteration: 100\n",
      "Iteration: 100, steps: 397629, mean loss: -0.009694605552067515, mean KL divergence: 0.018419249028520428 average return: 5.875521704213774, average episode length: 200.0\n",
      "Iteration: 110, steps: 437629, mean loss: -0.0087658806143736, mean KL divergence: 0.018814050893488456 average return: 7.0710500874088, average episode length: 200.0\n",
      "Iteration: 120, steps: 477629, mean loss: -0.007172011028451378, mean KL divergence: 0.022338860442469008 average return: 8.194012482763595, average episode length: 200.0\n",
      "Iteration: 130, steps: 517629, mean loss: -0.007795400598333801, mean KL divergence: 0.023571054053027184 average return: 9.350967916366603, average episode length: 200.0\n",
      "Iteration: 140, steps: 557629, mean loss: -0.010006679474317935, mean KL divergence: 0.02261315561379888 average return: 12.606893800670083, average episode length: 200.0\n",
      "Saved model at iteration: 150\n",
      "Iteration: 150, steps: 597555, mean loss: -0.00977695382265665, mean KL divergence: 0.025257386384750603 average return: 18.330888735486486, average episode length: 199.63\n",
      "Iteration: 160, steps: 637508, mean loss: -0.008646371154740805, mean KL divergence: 0.035387661282220505 average return: 22.919779840505363, average episode length: 199.765\n",
      "Iteration: 170, steps: 677508, mean loss: -0.0071716768437181605, mean KL divergence: 0.021789436628750995 average return: 26.114924242489955, average episode length: 200.0\n",
      "Iteration: 180, steps: 717508, mean loss: -0.005431334573659115, mean KL divergence: 0.022720551600868933 average return: 28.88716235608129, average episode length: 200.0\n",
      "Iteration: 190, steps: 757508, mean loss: -0.006811433971452061, mean KL divergence: 0.023712575668105272 average return: 30.919466831271514, average episode length: 200.0\n",
      "Saved model at iteration: 200\n",
      "Iteration: 200, steps: 797508, mean loss: -0.006497270062536699, mean KL divergence: 0.024824701726975037 average return: 31.87901898007145, average episode length: 200.0\n",
      "Iteration: 210, steps: 837508, mean loss: -0.005152296165615553, mean KL divergence: 0.032923649063450286 average return: 32.96040578956627, average episode length: 200.0\n",
      "Iteration: 220, steps: 877508, mean loss: -0.004182918290171074, mean KL divergence: 0.028602925411978505 average return: 34.342865148016536, average episode length: 200.0\n",
      "Iteration: 230, steps: 917508, mean loss: -0.004074470919367741, mean KL divergence: 0.026884968929007297 average return: 34.606375884326255, average episode length: 200.0\n",
      "Iteration: 240, steps: 957508, mean loss: -0.0046598337047908, mean KL divergence: 0.02835265323024942 average return: 34.24891811340133, average episode length: 200.0\n",
      "Saved model at iteration: 250\n",
      "Iteration: 250, steps: 997508, mean loss: -0.0035611752784461717, mean KL divergence: 0.030223836558943732 average return: 34.94732232763723, average episode length: 200.0\n"
     ]
    }
   ],
   "source": [
    "ppo.train(print_freq=10)"
   ]
  }
 ],
 "metadata": {
  "kernelspec": {
   "display_name": "Python 3",
   "language": "python",
   "name": "python3"
  },
  "language_info": {
   "codemirror_mode": {
    "name": "ipython",
    "version": 3
   },
   "file_extension": ".py",
   "mimetype": "text/x-python",
   "name": "python",
   "nbconvert_exporter": "python",
   "pygments_lexer": "ipython3",
   "version": "3.7.2"
  }
 },
 "nbformat": 4,
 "nbformat_minor": 4
}
