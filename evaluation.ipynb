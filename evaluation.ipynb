{
 "cells": [
  {
   "cell_type": "code",
   "execution_count": 1,
   "metadata": {},
   "outputs": [],
   "source": [
    "import gym\n",
    "import torch\n",
    "import numpy as np\n",
    "from utils import finalize\n",
    "import math\n",
    "import pickle\n",
    "\n",
    "from model import MLPActorCritic"
   ]
  },
  {
   "cell_type": "code",
   "execution_count": 2,
   "metadata": {},
   "outputs": [],
   "source": [
    "env = gym.make('BipedalWalker-v2')\n",
    "\n",
    "obs_dim = env.observation_space.shape[0]\n",
    "num_actions = env.action_space.shape[0]\n",
    "initial_sd = .5\n",
    "\n",
    "device = torch.device('cpu')\n",
    "\n",
    "actor_critic = MLPActorCritic([obs_dim] + [32,32] + [2*num_actions], [obs_dim] + [32,32] + [1], initial_sd, num_actions, device)\n",
    "\n",
    "version = \"250\"\n",
    "modelname = \"models/Bipedal/iteration\" + version + \".pt\"\n",
    "\n",
    "sd = torch.load(modelname)\n",
    "actor_critic.actor.load_state_dict(sd)\n",
    "\n",
    "aggregate_name = \"models/Bipedal/aggregate\" + version + \".p\"\n",
    "with open(aggregate_name, 'rb') as filehandler:\n",
    "    aggregate = pickle.load(filehandler)"
   ]
  },
  {
   "cell_type": "code",
   "execution_count": 3,
   "metadata": {},
   "outputs": [
    {
     "name": "stdout",
     "output_type": "stream",
     "text": [
      "Return: 309.08702950597325\n"
     ]
    },
    {
     "data": {
      "image/png": "[encoded data removed]",
      "text/plain": [
       "<Figure size 432x288 with 1 Axes>"
      ]
     },
     "metadata": {
      "needs_background": "light"
     },
     "output_type": "display_data"
    }
   ],
   "source": [
    "from IPython import display\n",
    "import matplotlib\n",
    "import matplotlib.pyplot as plt\n",
    "from utils import *\n",
    "%matplotlib inline\n",
    "import imageio\n",
    "\n",
    "done = False\n",
    "state = env.reset()\n",
    "\n",
    "img = plt.imshow(env.render(mode='rgb_array')) # only call this once\n",
    "frame_skip = 5\n",
    "step = 0\n",
    "r = 0\n",
    "while not done:\n",
    "    step += 1\n",
    "    if step % frame_skip == 0:\n",
    "        img.set_data(env.render(mode='rgb_array')) # just update the data\n",
    "        display.display(plt.gcf())\n",
    "        display.clear_output(wait=True)\n",
    "    \n",
    "    state_tensor = torch.as_tensor(np.array(state), dtype=torch.float32, device=device)\n",
    "    state_tensor = state_tensor.unsqueeze(0)\n",
    "    \n",
    "    for i in range(obs_dim):\n",
    "        mean, var = finalize(aggregate[i])\n",
    "        state_tensor[:,i] = (state_tensor[:,i] - mean) / max(math.sqrt(var), 1e-6)\n",
    "    \n",
    "    action = actor_critic.get_action(state_tensor)\n",
    "    \n",
    "    state, reward, done, _ = env.step(action)\n",
    "    r += reward\n",
    "        \n",
    "print(f\"Return: {r}\")"
   ]
  }
 ],
 "metadata": {
  "kernelspec": {
   "display_name": "Python 3",
   "language": "python",
   "name": "python3"
  },
  "language_info": {
   "codemirror_mode": {
    "name": "ipython",
    "version": 3
   },
   "file_extension": ".py",
   "mimetype": "text/x-python",
   "name": "python",
   "nbconvert_exporter": "python",
   "pygments_lexer": "ipython3",
   "version": "3.7.2"
  }
 },
 "nbformat": 4,
 "nbformat_minor": 4
}
